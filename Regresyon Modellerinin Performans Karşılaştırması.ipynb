{
 "cells": [
  {
   "cell_type": "markdown",
   "id": "c4ddb056",
   "metadata": {},
   "source": [
    "# Altın Fiyatlarını Tahmin Etmek İçin Regresyon Modellerinin Performans Karşılaştırması"
   ]
  },
  {
   "cell_type": "raw",
   "id": "6519d8c6",
   "metadata": {},
   "source": [
    "Bu çalışma altın fiyatlarının diğre para birimleri karşısında nasıl harekt etiğini göstermektedir.\n",
    "Ama esas önemli olan burda bu veri seti üzerinde Regresyon modellerinin kıyaslaması yapılması.\n",
    "Burda çıkarılan esas bir veri setine kurulacak model üzerinde veri setine hangi modelin nasıl bir sonuç verçeğşi mechuldur o yüzden olabildiğince modeller denenmelidir."
   ]
  },
  {
   "cell_type": "code",
   "execution_count": 1,
   "id": "6544d77b",
   "metadata": {},
   "outputs": [],
   "source": [
    "# Kullanılması gereken kütüpaneler.\n",
    "import pandas as pd\n",
    "import numpy as np\n",
    "import seaborn as sns\n",
    "import matplotlib.pyplot as plt\n",
    "from statsmodels.tsa.seasonal import seasonal_decompose\n",
    "from dateutil import parser\n",
    "from statsmodels.tsa.arima.model import ARIMA\n",
    "from sklearn.metrics import mean_squared_error\n",
    "import matplotlib.dates as mdates\n",
    "\n",
    "# Model çalışmada çıkacak olan uyarıyı kapatmaya yarayan kod.\n",
    "import warnings\n",
    "warnings.filterwarnings('ignore')"
   ]
  },
  {
   "cell_type": "code",
   "execution_count": 7,
   "id": "3670a401",
   "metadata": {},
   "outputs": [],
   "source": [
    "# Veri seti okunmasını sağlayan kodu yazalım.\n",
    "df = pd.read_csv(r'C:\\Users\\realb\\Desktop\\Global altın fiyatı analiz eden model/gld_price_data.csv')"
   ]
  },
  {
   "cell_type": "code",
   "execution_count": 36,
   "id": "a76895ca",
   "metadata": {},
   "outputs": [
    {
     "data": {
      "text/html": [
       "<div>\n",
       "<style scoped>\n",
       "    .dataframe tbody tr th:only-of-type {\n",
       "        vertical-align: middle;\n",
       "    }\n",
       "\n",
       "    .dataframe tbody tr th {\n",
       "        vertical-align: top;\n",
       "    }\n",
       "\n",
       "    .dataframe thead th {\n",
       "        text-align: right;\n",
       "    }\n",
       "</style>\n",
       "<table border=\"1\" class=\"dataframe\">\n",
       "  <thead>\n",
       "    <tr style=\"text-align: right;\">\n",
       "      <th></th>\n",
       "      <th>SPX</th>\n",
       "      <th>GLD</th>\n",
       "      <th>USO</th>\n",
       "      <th>SLV</th>\n",
       "      <th>EUR/USD</th>\n",
       "    </tr>\n",
       "  </thead>\n",
       "  <tbody>\n",
       "    <tr>\n",
       "      <th>0</th>\n",
       "      <td>1447.160034</td>\n",
       "      <td>84.860001</td>\n",
       "      <td>78.470001</td>\n",
       "      <td>15.180</td>\n",
       "      <td>1.471692</td>\n",
       "    </tr>\n",
       "    <tr>\n",
       "      <th>1</th>\n",
       "      <td>1447.160034</td>\n",
       "      <td>85.570000</td>\n",
       "      <td>78.370003</td>\n",
       "      <td>15.285</td>\n",
       "      <td>1.474491</td>\n",
       "    </tr>\n",
       "    <tr>\n",
       "      <th>2</th>\n",
       "      <td>1411.630005</td>\n",
       "      <td>85.129997</td>\n",
       "      <td>77.309998</td>\n",
       "      <td>15.167</td>\n",
       "      <td>1.475492</td>\n",
       "    </tr>\n",
       "    <tr>\n",
       "      <th>3</th>\n",
       "      <td>1416.180054</td>\n",
       "      <td>84.769997</td>\n",
       "      <td>75.500000</td>\n",
       "      <td>15.053</td>\n",
       "      <td>1.468299</td>\n",
       "    </tr>\n",
       "    <tr>\n",
       "      <th>4</th>\n",
       "      <td>1390.189941</td>\n",
       "      <td>86.779999</td>\n",
       "      <td>76.059998</td>\n",
       "      <td>15.590</td>\n",
       "      <td>1.557099</td>\n",
       "    </tr>\n",
       "  </tbody>\n",
       "</table>\n",
       "</div>"
      ],
      "text/plain": [
       "           SPX        GLD        USO     SLV   EUR/USD\n",
       "0  1447.160034  84.860001  78.470001  15.180  1.471692\n",
       "1  1447.160034  85.570000  78.370003  15.285  1.474491\n",
       "2  1411.630005  85.129997  77.309998  15.167  1.475492\n",
       "3  1416.180054  84.769997  75.500000  15.053  1.468299\n",
       "4  1390.189941  86.779999  76.059998  15.590  1.557099"
      ]
     },
     "execution_count": 36,
     "metadata": {},
     "output_type": "execute_result"
    }
   ],
   "source": [
    "# Veri setinin ilk beş setinin okumasını sağlayalım.\n",
    "gold_price_df.head()"
   ]
  },
  {
   "cell_type": "code",
   "execution_count": 37,
   "id": "4fb68111",
   "metadata": {},
   "outputs": [
    {
     "data": {
      "text/html": [
       "<div>\n",
       "<style scoped>\n",
       "    .dataframe tbody tr th:only-of-type {\n",
       "        vertical-align: middle;\n",
       "    }\n",
       "\n",
       "    .dataframe tbody tr th {\n",
       "        vertical-align: top;\n",
       "    }\n",
       "\n",
       "    .dataframe thead th {\n",
       "        text-align: right;\n",
       "    }\n",
       "</style>\n",
       "<table border=\"1\" class=\"dataframe\">\n",
       "  <thead>\n",
       "    <tr style=\"text-align: right;\">\n",
       "      <th></th>\n",
       "      <th>SPX</th>\n",
       "      <th>GLD</th>\n",
       "      <th>USO</th>\n",
       "      <th>SLV</th>\n",
       "      <th>EUR/USD</th>\n",
       "    </tr>\n",
       "  </thead>\n",
       "  <tbody>\n",
       "    <tr>\n",
       "      <th>2285</th>\n",
       "      <td>2671.919922</td>\n",
       "      <td>124.589996</td>\n",
       "      <td>14.0600</td>\n",
       "      <td>15.5100</td>\n",
       "      <td>1.186789</td>\n",
       "    </tr>\n",
       "    <tr>\n",
       "      <th>2286</th>\n",
       "      <td>2697.790039</td>\n",
       "      <td>124.330002</td>\n",
       "      <td>14.3700</td>\n",
       "      <td>15.5300</td>\n",
       "      <td>1.184722</td>\n",
       "    </tr>\n",
       "    <tr>\n",
       "      <th>2287</th>\n",
       "      <td>2723.070068</td>\n",
       "      <td>125.180000</td>\n",
       "      <td>14.4100</td>\n",
       "      <td>15.7400</td>\n",
       "      <td>1.191753</td>\n",
       "    </tr>\n",
       "    <tr>\n",
       "      <th>2288</th>\n",
       "      <td>2730.129883</td>\n",
       "      <td>124.489998</td>\n",
       "      <td>14.3800</td>\n",
       "      <td>15.5600</td>\n",
       "      <td>1.193118</td>\n",
       "    </tr>\n",
       "    <tr>\n",
       "      <th>2289</th>\n",
       "      <td>2725.780029</td>\n",
       "      <td>122.543800</td>\n",
       "      <td>14.4058</td>\n",
       "      <td>15.4542</td>\n",
       "      <td>1.182033</td>\n",
       "    </tr>\n",
       "  </tbody>\n",
       "</table>\n",
       "</div>"
      ],
      "text/plain": [
       "              SPX         GLD      USO      SLV   EUR/USD\n",
       "2285  2671.919922  124.589996  14.0600  15.5100  1.186789\n",
       "2286  2697.790039  124.330002  14.3700  15.5300  1.184722\n",
       "2287  2723.070068  125.180000  14.4100  15.7400  1.191753\n",
       "2288  2730.129883  124.489998  14.3800  15.5600  1.193118\n",
       "2289  2725.780029  122.543800  14.4058  15.4542  1.182033"
      ]
     },
     "execution_count": 37,
     "metadata": {},
     "output_type": "execute_result"
    }
   ],
   "source": [
    "# Veri setinin son beş setinin okumasını sağlayalım.\n",
    "gold_price_df.tail()"
   ]
  },
  {
   "cell_type": "code",
   "execution_count": 45,
   "id": "87018077",
   "metadata": {},
   "outputs": [
    {
     "name": "stdout",
     "output_type": "stream",
     "text": [
      "Dataframe in boyutu:  (2290, 5)\n",
      "Sütun Adı, Kayıt Sayısı ve Veri Tipleri aşağıdaki gibidir: \n",
      "<class 'pandas.core.frame.DataFrame'>\n",
      "RangeIndex: 2290 entries, 0 to 2289\n",
      "Data columns (total 5 columns):\n",
      " #   Column   Non-Null Count  Dtype  \n",
      "---  ------   --------------  -----  \n",
      " 0   SPX      2290 non-null   float64\n",
      " 1   GLD      2290 non-null   float64\n",
      " 2   USO      2290 non-null   float64\n",
      " 3   SLV      2290 non-null   float64\n",
      " 4   EUR/USD  2290 non-null   float64\n",
      "dtypes: float64(5)\n",
      "memory usage: 89.6 KB\n"
     ]
    }
   ],
   "source": [
    "# Veri setinin genel yapısı hakkında bilgi edinelim.\n",
    "print('Dataframe in boyutu: ', gold_price_df.shape)\n",
    "print('Sütun Adı, Kayıt Sayısı ve Veri Tipleri aşağıdaki gibidir: ')\n",
    "gold_price_df.info()"
   ]
  },
  {
   "cell_type": "code",
   "execution_count": 66,
   "id": "a3679fab",
   "metadata": {},
   "outputs": [
    {
     "name": "stdout",
     "output_type": "stream",
     "text": [
      "We have 5 numerical features : ['SPX', 'GLD', 'USO', 'SLV', 'EUR/USD']\n",
      "\n",
      "We have 0 categorical features : []\n"
     ]
    }
   ],
   "source": [
    "# Defining numerical & categorical columns\n",
    "numeric_features = [feature for feature in gold_price_df.columns if gold_price_df[feature].dtype != 'O']\n",
    "categorical_features = [feature for feature in gold_price_df.columns if gold_price_df[feature].dtype == 'O']\n",
    "\n",
    "# print columns\n",
    "print('We have {} numerical features : {}'.format(len(numeric_features), numeric_features))\n",
    "print('\\nWe have {} categorical features : {}'.format(len(categorical_features), categorical_features))"
   ]
  },
  {
   "cell_type": "code",
   "execution_count": 50,
   "id": "96ce370d",
   "metadata": {},
   "outputs": [
    {
     "name": "stdout",
     "output_type": "stream",
     "text": [
      "DataFramein farklı sütunlarındaki Eksik Değer Varlığı aşağıdaki gibidir : \n"
     ]
    },
    {
     "data": {
      "text/html": [
       "<div>\n",
       "<style scoped>\n",
       "    .dataframe tbody tr th:only-of-type {\n",
       "        vertical-align: middle;\n",
       "    }\n",
       "\n",
       "    .dataframe tbody tr th {\n",
       "        vertical-align: top;\n",
       "    }\n",
       "\n",
       "    .dataframe thead th {\n",
       "        text-align: right;\n",
       "    }\n",
       "</style>\n",
       "<table border=\"1\" class=\"dataframe\">\n",
       "  <thead>\n",
       "    <tr style=\"text-align: right;\">\n",
       "      <th></th>\n",
       "      <th>Total</th>\n",
       "      <th>Percent</th>\n",
       "    </tr>\n",
       "  </thead>\n",
       "  <tbody>\n",
       "    <tr>\n",
       "      <th>SPX</th>\n",
       "      <td>0</td>\n",
       "      <td>0.0</td>\n",
       "    </tr>\n",
       "    <tr>\n",
       "      <th>GLD</th>\n",
       "      <td>0</td>\n",
       "      <td>0.0</td>\n",
       "    </tr>\n",
       "    <tr>\n",
       "      <th>USO</th>\n",
       "      <td>0</td>\n",
       "      <td>0.0</td>\n",
       "    </tr>\n",
       "    <tr>\n",
       "      <th>SLV</th>\n",
       "      <td>0</td>\n",
       "      <td>0.0</td>\n",
       "    </tr>\n",
       "    <tr>\n",
       "      <th>EUR/USD</th>\n",
       "      <td>0</td>\n",
       "      <td>0.0</td>\n",
       "    </tr>\n",
       "  </tbody>\n",
       "</table>\n",
       "</div>"
      ],
      "text/plain": [
       "         Total  Percent\n",
       "SPX          0      0.0\n",
       "GLD          0      0.0\n",
       "USO          0      0.0\n",
       "SLV          0      0.0\n",
       "EUR/USD      0      0.0"
      ]
     },
     "execution_count": 50,
     "metadata": {},
     "output_type": "execute_result"
    }
   ],
   "source": [
    "print('DataFramein farklı sütunlarındaki Eksik Değer Varlığı aşağıdaki gibidir : ')\n",
    "total=gold_price_df.isnull().sum().sort_values(ascending=False)\n",
    "percent=(gold_price_df.isnull().sum()/gold_price_df.isnull().count()*100).sort_values(ascending=False)\n",
    "pd.concat([total, percent], axis=1, keys=['Total', 'Percent'])"
   ]
  },
  {
   "cell_type": "code",
   "execution_count": 51,
   "id": "832cc9a3",
   "metadata": {},
   "outputs": [
    {
     "name": "stdout",
     "output_type": "stream",
     "text": [
      "DataFrame için sayısal özelliklerin Özet İstatistikleri aşağıdaki gibidir:\n"
     ]
    },
    {
     "data": {
      "text/html": [
       "<div>\n",
       "<style scoped>\n",
       "    .dataframe tbody tr th:only-of-type {\n",
       "        vertical-align: middle;\n",
       "    }\n",
       "\n",
       "    .dataframe tbody tr th {\n",
       "        vertical-align: top;\n",
       "    }\n",
       "\n",
       "    .dataframe thead th {\n",
       "        text-align: right;\n",
       "    }\n",
       "</style>\n",
       "<table border=\"1\" class=\"dataframe\">\n",
       "  <thead>\n",
       "    <tr style=\"text-align: right;\">\n",
       "      <th></th>\n",
       "      <th>SPX</th>\n",
       "      <th>GLD</th>\n",
       "      <th>USO</th>\n",
       "      <th>SLV</th>\n",
       "      <th>EUR/USD</th>\n",
       "    </tr>\n",
       "  </thead>\n",
       "  <tbody>\n",
       "    <tr>\n",
       "      <th>count</th>\n",
       "      <td>2290.000000</td>\n",
       "      <td>2290.000000</td>\n",
       "      <td>2290.000000</td>\n",
       "      <td>2290.000000</td>\n",
       "      <td>2290.000000</td>\n",
       "    </tr>\n",
       "    <tr>\n",
       "      <th>mean</th>\n",
       "      <td>1654.315776</td>\n",
       "      <td>122.732875</td>\n",
       "      <td>31.842221</td>\n",
       "      <td>20.084997</td>\n",
       "      <td>1.283653</td>\n",
       "    </tr>\n",
       "    <tr>\n",
       "      <th>std</th>\n",
       "      <td>519.111540</td>\n",
       "      <td>23.283346</td>\n",
       "      <td>19.523517</td>\n",
       "      <td>7.092566</td>\n",
       "      <td>0.131547</td>\n",
       "    </tr>\n",
       "    <tr>\n",
       "      <th>min</th>\n",
       "      <td>676.530029</td>\n",
       "      <td>70.000000</td>\n",
       "      <td>7.960000</td>\n",
       "      <td>8.850000</td>\n",
       "      <td>1.039047</td>\n",
       "    </tr>\n",
       "    <tr>\n",
       "      <th>25%</th>\n",
       "      <td>1239.874969</td>\n",
       "      <td>109.725000</td>\n",
       "      <td>14.380000</td>\n",
       "      <td>15.570000</td>\n",
       "      <td>1.171313</td>\n",
       "    </tr>\n",
       "    <tr>\n",
       "      <th>50%</th>\n",
       "      <td>1551.434998</td>\n",
       "      <td>120.580002</td>\n",
       "      <td>33.869999</td>\n",
       "      <td>17.268500</td>\n",
       "      <td>1.303297</td>\n",
       "    </tr>\n",
       "    <tr>\n",
       "      <th>75%</th>\n",
       "      <td>2073.010070</td>\n",
       "      <td>132.840004</td>\n",
       "      <td>37.827501</td>\n",
       "      <td>22.882500</td>\n",
       "      <td>1.369971</td>\n",
       "    </tr>\n",
       "    <tr>\n",
       "      <th>max</th>\n",
       "      <td>2872.870117</td>\n",
       "      <td>184.589996</td>\n",
       "      <td>117.480003</td>\n",
       "      <td>47.259998</td>\n",
       "      <td>1.598798</td>\n",
       "    </tr>\n",
       "  </tbody>\n",
       "</table>\n",
       "</div>"
      ],
      "text/plain": [
       "               SPX          GLD          USO          SLV      EUR/USD\n",
       "count  2290.000000  2290.000000  2290.000000  2290.000000  2290.000000\n",
       "mean   1654.315776   122.732875    31.842221    20.084997     1.283653\n",
       "std     519.111540    23.283346    19.523517     7.092566     0.131547\n",
       "min     676.530029    70.000000     7.960000     8.850000     1.039047\n",
       "25%    1239.874969   109.725000    14.380000    15.570000     1.171313\n",
       "50%    1551.434998   120.580002    33.869999    17.268500     1.303297\n",
       "75%    2073.010070   132.840004    37.827501    22.882500     1.369971\n",
       "max    2872.870117   184.589996   117.480003    47.259998     1.598798"
      ]
     },
     "execution_count": 51,
     "metadata": {},
     "output_type": "execute_result"
    }
   ],
   "source": [
    "print('DataFrame için sayısal özelliklerin Özet İstatistikleri aşağıdaki gibidir:')\n",
    "gold_price_df.describe()"
   ]
  },
  {
   "cell_type": "code",
   "execution_count": 55,
   "id": "238e7c58",
   "metadata": {},
   "outputs": [
    {
     "data": {
      "text/html": [
       "<div>\n",
       "<style scoped>\n",
       "    .dataframe tbody tr th:only-of-type {\n",
       "        vertical-align: middle;\n",
       "    }\n",
       "\n",
       "    .dataframe tbody tr th {\n",
       "        vertical-align: top;\n",
       "    }\n",
       "\n",
       "    .dataframe thead th {\n",
       "        text-align: right;\n",
       "    }\n",
       "</style>\n",
       "<table border=\"1\" class=\"dataframe\">\n",
       "  <thead>\n",
       "    <tr style=\"text-align: right;\">\n",
       "      <th></th>\n",
       "      <th>SPX</th>\n",
       "      <th>GLD</th>\n",
       "      <th>USO</th>\n",
       "      <th>SLV</th>\n",
       "      <th>EUR/USD</th>\n",
       "    </tr>\n",
       "  </thead>\n",
       "  <tbody>\n",
       "    <tr>\n",
       "      <th>0</th>\n",
       "      <td>1447.160034</td>\n",
       "      <td>84.860001</td>\n",
       "      <td>78.470001</td>\n",
       "      <td>15.1800</td>\n",
       "      <td>1.471692</td>\n",
       "    </tr>\n",
       "    <tr>\n",
       "      <th>1</th>\n",
       "      <td>1447.160034</td>\n",
       "      <td>85.570000</td>\n",
       "      <td>78.370003</td>\n",
       "      <td>15.2850</td>\n",
       "      <td>1.474491</td>\n",
       "    </tr>\n",
       "    <tr>\n",
       "      <th>2</th>\n",
       "      <td>1411.630005</td>\n",
       "      <td>85.129997</td>\n",
       "      <td>77.309998</td>\n",
       "      <td>15.1670</td>\n",
       "      <td>1.475492</td>\n",
       "    </tr>\n",
       "    <tr>\n",
       "      <th>3</th>\n",
       "      <td>1416.180054</td>\n",
       "      <td>84.769997</td>\n",
       "      <td>75.500000</td>\n",
       "      <td>15.0530</td>\n",
       "      <td>1.468299</td>\n",
       "    </tr>\n",
       "    <tr>\n",
       "      <th>4</th>\n",
       "      <td>1390.189941</td>\n",
       "      <td>86.779999</td>\n",
       "      <td>76.059998</td>\n",
       "      <td>15.5900</td>\n",
       "      <td>1.557099</td>\n",
       "    </tr>\n",
       "    <tr>\n",
       "      <th>...</th>\n",
       "      <td>...</td>\n",
       "      <td>...</td>\n",
       "      <td>...</td>\n",
       "      <td>...</td>\n",
       "      <td>...</td>\n",
       "    </tr>\n",
       "    <tr>\n",
       "      <th>2285</th>\n",
       "      <td>2671.919922</td>\n",
       "      <td>124.589996</td>\n",
       "      <td>14.060000</td>\n",
       "      <td>15.5100</td>\n",
       "      <td>1.186789</td>\n",
       "    </tr>\n",
       "    <tr>\n",
       "      <th>2286</th>\n",
       "      <td>2697.790039</td>\n",
       "      <td>124.330002</td>\n",
       "      <td>14.370000</td>\n",
       "      <td>15.5300</td>\n",
       "      <td>1.184722</td>\n",
       "    </tr>\n",
       "    <tr>\n",
       "      <th>2287</th>\n",
       "      <td>2723.070068</td>\n",
       "      <td>125.180000</td>\n",
       "      <td>14.410000</td>\n",
       "      <td>15.7400</td>\n",
       "      <td>1.191753</td>\n",
       "    </tr>\n",
       "    <tr>\n",
       "      <th>2288</th>\n",
       "      <td>2730.129883</td>\n",
       "      <td>124.489998</td>\n",
       "      <td>14.380000</td>\n",
       "      <td>15.5600</td>\n",
       "      <td>1.193118</td>\n",
       "    </tr>\n",
       "    <tr>\n",
       "      <th>2289</th>\n",
       "      <td>2725.780029</td>\n",
       "      <td>122.543800</td>\n",
       "      <td>14.405800</td>\n",
       "      <td>15.4542</td>\n",
       "      <td>1.182033</td>\n",
       "    </tr>\n",
       "  </tbody>\n",
       "</table>\n",
       "<p>2290 rows × 5 columns</p>\n",
       "</div>"
      ],
      "text/plain": [
       "              SPX         GLD        USO      SLV   EUR/USD\n",
       "0     1447.160034   84.860001  78.470001  15.1800  1.471692\n",
       "1     1447.160034   85.570000  78.370003  15.2850  1.474491\n",
       "2     1411.630005   85.129997  77.309998  15.1670  1.475492\n",
       "3     1416.180054   84.769997  75.500000  15.0530  1.468299\n",
       "4     1390.189941   86.779999  76.059998  15.5900  1.557099\n",
       "...           ...         ...        ...      ...       ...\n",
       "2285  2671.919922  124.589996  14.060000  15.5100  1.186789\n",
       "2286  2697.790039  124.330002  14.370000  15.5300  1.184722\n",
       "2287  2723.070068  125.180000  14.410000  15.7400  1.191753\n",
       "2288  2730.129883  124.489998  14.380000  15.5600  1.193118\n",
       "2289  2725.780029  122.543800  14.405800  15.4542  1.182033\n",
       "\n",
       "[2290 rows x 5 columns]"
      ]
     },
     "execution_count": 55,
     "metadata": {},
     "output_type": "execute_result"
    }
   ],
   "source": [
    "gold_price_df"
   ]
  },
  {
   "cell_type": "code",
   "execution_count": 67,
   "id": "76fdc2d8",
   "metadata": {},
   "outputs": [],
   "source": [
    "correlation = gold_price_df.corr()"
   ]
  },
  {
   "cell_type": "code",
   "execution_count": 68,
   "id": "c641ad5e",
   "metadata": {},
   "outputs": [
    {
     "data": {
      "text/html": [
       "<div>\n",
       "<style scoped>\n",
       "    .dataframe tbody tr th:only-of-type {\n",
       "        vertical-align: middle;\n",
       "    }\n",
       "\n",
       "    .dataframe tbody tr th {\n",
       "        vertical-align: top;\n",
       "    }\n",
       "\n",
       "    .dataframe thead th {\n",
       "        text-align: right;\n",
       "    }\n",
       "</style>\n",
       "<table border=\"1\" class=\"dataframe\">\n",
       "  <thead>\n",
       "    <tr style=\"text-align: right;\">\n",
       "      <th></th>\n",
       "      <th>SPX</th>\n",
       "      <th>GLD</th>\n",
       "      <th>USO</th>\n",
       "      <th>SLV</th>\n",
       "      <th>EUR/USD</th>\n",
       "    </tr>\n",
       "  </thead>\n",
       "  <tbody>\n",
       "    <tr>\n",
       "      <th>SPX</th>\n",
       "      <td>1.000000</td>\n",
       "      <td>0.049345</td>\n",
       "      <td>-0.591573</td>\n",
       "      <td>-0.274055</td>\n",
       "      <td>-0.672017</td>\n",
       "    </tr>\n",
       "    <tr>\n",
       "      <th>GLD</th>\n",
       "      <td>0.049345</td>\n",
       "      <td>1.000000</td>\n",
       "      <td>-0.186360</td>\n",
       "      <td>0.866632</td>\n",
       "      <td>-0.024375</td>\n",
       "    </tr>\n",
       "    <tr>\n",
       "      <th>USO</th>\n",
       "      <td>-0.591573</td>\n",
       "      <td>-0.186360</td>\n",
       "      <td>1.000000</td>\n",
       "      <td>0.167547</td>\n",
       "      <td>0.829317</td>\n",
       "    </tr>\n",
       "    <tr>\n",
       "      <th>SLV</th>\n",
       "      <td>-0.274055</td>\n",
       "      <td>0.866632</td>\n",
       "      <td>0.167547</td>\n",
       "      <td>1.000000</td>\n",
       "      <td>0.321631</td>\n",
       "    </tr>\n",
       "    <tr>\n",
       "      <th>EUR/USD</th>\n",
       "      <td>-0.672017</td>\n",
       "      <td>-0.024375</td>\n",
       "      <td>0.829317</td>\n",
       "      <td>0.321631</td>\n",
       "      <td>1.000000</td>\n",
       "    </tr>\n",
       "  </tbody>\n",
       "</table>\n",
       "</div>"
      ],
      "text/plain": [
       "              SPX       GLD       USO       SLV   EUR/USD\n",
       "SPX      1.000000  0.049345 -0.591573 -0.274055 -0.672017\n",
       "GLD      0.049345  1.000000 -0.186360  0.866632 -0.024375\n",
       "USO     -0.591573 -0.186360  1.000000  0.167547  0.829317\n",
       "SLV     -0.274055  0.866632  0.167547  1.000000  0.321631\n",
       "EUR/USD -0.672017 -0.024375  0.829317  0.321631  1.000000"
      ]
     },
     "execution_count": 68,
     "metadata": {},
     "output_type": "execute_result"
    }
   ],
   "source": [
    "correlation"
   ]
  },
  {
   "cell_type": "code",
   "execution_count": 69,
   "id": "b945b73e",
   "metadata": {},
   "outputs": [
    {
     "data": {
      "text/plain": [
       "<Axes: >"
      ]
     },
     "execution_count": 69,
     "metadata": {},
     "output_type": "execute_result"
    },
    {
     "data": {
      "image/png": "[encoded data removed]",
      "text/plain": [
       "<Figure size 800x800 with 2 Axes>"
      ]
     },
     "metadata": {},
     "output_type": "display_data"
    }
   ],
   "source": [
    "plt.figure(figsize = (8,8))\n",
    "sns.heatmap(correlation, cbar=True, square=True, fmt='.1f',annot=True, annot_kws={'size':8}, cmap='Blues')"
   ]
  },
  {
   "cell_type": "code",
   "execution_count": 88,
   "id": "0af66aaa",
   "metadata": {},
   "outputs": [
    {
     "data": {
      "image/png": "[encoded data removed]",
      "text/plain": [
       "<Figure size 1000x600 with 4 Axes>"
      ]
     },
     "metadata": {},
     "output_type": "display_data"
    }
   ],
   "source": [
    "# Planlama yalalım görselleştirme için.\n",
    "plt.figure(figsize=(10, 6))\n",
    "\n",
    "# SPX'in zaman içindeki çizgi grafiği\n",
    "plt.subplot(2, 2, 1)\n",
    "plt.plot(gold_price_df['SPX'], marker='o', linestyle='-')\n",
    "plt.title('SPX')\n",
    "\n",
    "# GLD'nin dağılım grafiği\n",
    "plt.subplot(2, 2, 2)\n",
    "sns.histplot(gold_price_df['GLD'], bins=10, kde=True)\n",
    "plt.title('GLD')\n",
    "\n",
    "# SPX ve EUR/USD'nin dağılım grafiği\n",
    "plt.subplot(2, 2, 3)\n",
    "plt.scatter(gold_price_df['SPX'], gold_price_df['EUR/USD'], marker='o')\n",
    "plt.xlabel('SPX')\n",
    "plt.ylabel('EUR/USD')\n",
    "plt.title('SPX vs EUR/USD')\n",
    "\n",
    "# USO'nun kutu grafiği\n",
    "plt.subplot(2, 2, 4)\n",
    "sns.boxplot(y=gold_price_df['USO'])\n",
    "plt.title('USO')\n",
    "\n",
    "plt.tight_layout()\n",
    "plt.show()"
   ]
  },
  {
   "cell_type": "code",
   "execution_count": 89,
   "id": "a36a7a6a",
   "metadata": {},
   "outputs": [],
   "source": [
    "# verileri ve etiketleri ayırma\n",
    "X = gold_price_df.drop(columns = ['GLD'], axis=1) # Özellik matrisi\n",
    "y = gold_price_df['GLD'] # Hedef değişken"
   ]
  },
  {
   "cell_type": "code",
   "execution_count": 91,
   "id": "cd857633",
   "metadata": {},
   "outputs": [
    {
     "data": {
      "text/html": [
       "<div>\n",
       "<style scoped>\n",
       "    .dataframe tbody tr th:only-of-type {\n",
       "        vertical-align: middle;\n",
       "    }\n",
       "\n",
       "    .dataframe tbody tr th {\n",
       "        vertical-align: top;\n",
       "    }\n",
       "\n",
       "    .dataframe thead th {\n",
       "        text-align: right;\n",
       "    }\n",
       "</style>\n",
       "<table border=\"1\" class=\"dataframe\">\n",
       "  <thead>\n",
       "    <tr style=\"text-align: right;\">\n",
       "      <th></th>\n",
       "      <th>SPX</th>\n",
       "      <th>USO</th>\n",
       "      <th>SLV</th>\n",
       "      <th>EUR/USD</th>\n",
       "    </tr>\n",
       "  </thead>\n",
       "  <tbody>\n",
       "    <tr>\n",
       "      <th>0</th>\n",
       "      <td>1447.160034</td>\n",
       "      <td>78.470001</td>\n",
       "      <td>15.1800</td>\n",
       "      <td>1.471692</td>\n",
       "    </tr>\n",
       "    <tr>\n",
       "      <th>1</th>\n",
       "      <td>1447.160034</td>\n",
       "      <td>78.370003</td>\n",
       "      <td>15.2850</td>\n",
       "      <td>1.474491</td>\n",
       "    </tr>\n",
       "    <tr>\n",
       "      <th>2</th>\n",
       "      <td>1411.630005</td>\n",
       "      <td>77.309998</td>\n",
       "      <td>15.1670</td>\n",
       "      <td>1.475492</td>\n",
       "    </tr>\n",
       "    <tr>\n",
       "      <th>3</th>\n",
       "      <td>1416.180054</td>\n",
       "      <td>75.500000</td>\n",
       "      <td>15.0530</td>\n",
       "      <td>1.468299</td>\n",
       "    </tr>\n",
       "    <tr>\n",
       "      <th>4</th>\n",
       "      <td>1390.189941</td>\n",
       "      <td>76.059998</td>\n",
       "      <td>15.5900</td>\n",
       "      <td>1.557099</td>\n",
       "    </tr>\n",
       "    <tr>\n",
       "      <th>...</th>\n",
       "      <td>...</td>\n",
       "      <td>...</td>\n",
       "      <td>...</td>\n",
       "      <td>...</td>\n",
       "    </tr>\n",
       "    <tr>\n",
       "      <th>2285</th>\n",
       "      <td>2671.919922</td>\n",
       "      <td>14.060000</td>\n",
       "      <td>15.5100</td>\n",
       "      <td>1.186789</td>\n",
       "    </tr>\n",
       "    <tr>\n",
       "      <th>2286</th>\n",
       "      <td>2697.790039</td>\n",
       "      <td>14.370000</td>\n",
       "      <td>15.5300</td>\n",
       "      <td>1.184722</td>\n",
       "    </tr>\n",
       "    <tr>\n",
       "      <th>2287</th>\n",
       "      <td>2723.070068</td>\n",
       "      <td>14.410000</td>\n",
       "      <td>15.7400</td>\n",
       "      <td>1.191753</td>\n",
       "    </tr>\n",
       "    <tr>\n",
       "      <th>2288</th>\n",
       "      <td>2730.129883</td>\n",
       "      <td>14.380000</td>\n",
       "      <td>15.5600</td>\n",
       "      <td>1.193118</td>\n",
       "    </tr>\n",
       "    <tr>\n",
       "      <th>2289</th>\n",
       "      <td>2725.780029</td>\n",
       "      <td>14.405800</td>\n",
       "      <td>15.4542</td>\n",
       "      <td>1.182033</td>\n",
       "    </tr>\n",
       "  </tbody>\n",
       "</table>\n",
       "<p>2290 rows × 4 columns</p>\n",
       "</div>"
      ],
      "text/plain": [
       "              SPX        USO      SLV   EUR/USD\n",
       "0     1447.160034  78.470001  15.1800  1.471692\n",
       "1     1447.160034  78.370003  15.2850  1.474491\n",
       "2     1411.630005  77.309998  15.1670  1.475492\n",
       "3     1416.180054  75.500000  15.0530  1.468299\n",
       "4     1390.189941  76.059998  15.5900  1.557099\n",
       "...           ...        ...      ...       ...\n",
       "2285  2671.919922  14.060000  15.5100  1.186789\n",
       "2286  2697.790039  14.370000  15.5300  1.184722\n",
       "2287  2723.070068  14.410000  15.7400  1.191753\n",
       "2288  2730.129883  14.380000  15.5600  1.193118\n",
       "2289  2725.780029  14.405800  15.4542  1.182033\n",
       "\n",
       "[2290 rows x 4 columns]"
      ]
     },
     "execution_count": 91,
     "metadata": {},
     "output_type": "execute_result"
    }
   ],
   "source": [
    "X"
   ]
  },
  {
   "cell_type": "code",
   "execution_count": 92,
   "id": "2375852b",
   "metadata": {},
   "outputs": [
    {
     "data": {
      "text/plain": [
       "0        84.860001\n",
       "1        85.570000\n",
       "2        85.129997\n",
       "3        84.769997\n",
       "4        86.779999\n",
       "           ...    \n",
       "2285    124.589996\n",
       "2286    124.330002\n",
       "2287    125.180000\n",
       "2288    124.489998\n",
       "2289    122.543800\n",
       "Name: GLD, Length: 2290, dtype: float64"
      ]
     },
     "execution_count": 92,
     "metadata": {},
     "output_type": "execute_result"
    }
   ],
   "source": [
    "y"
   ]
  },
  {
   "cell_type": "code",
   "execution_count": 93,
   "id": "0d04c26e",
   "metadata": {},
   "outputs": [],
   "source": [
    "from sklearn.preprocessing import StandardScaler\n",
    "\n",
    "scaler = StandardScaler()"
   ]
  },
  {
   "cell_type": "code",
   "execution_count": 94,
   "id": "175caa2e",
   "metadata": {},
   "outputs": [
    {
     "data": {
      "text/html": [
       "<style>#sk-container-id-3 {color: black;}#sk-container-id-3 pre{padding: 0;}#sk-container-id-3 div.sk-toggleable {background-color: white;}#sk-container-id-3 label.sk-toggleable__label {cursor: pointer;display: block;width: 100%;margin-bottom: 0;padding: 0.3em;box-sizing: border-box;text-align: center;}#sk-container-id-3 label.sk-toggleable__label-arrow:before {content: \"▸\";float: left;margin-right: 0.25em;color: #696969;}#sk-container-id-3 label.sk-toggleable__label-arrow:hover:before {color: black;}#sk-container-id-3 div.sk-estimator:hover label.sk-toggleable__label-arrow:before {color: black;}#sk-container-id-3 div.sk-toggleable__content {max-height: 0;max-width: 0;overflow: hidden;text-align: left;background-color: #f0f8ff;}#sk-container-id-3 div.sk-toggleable__content pre {margin: 0.2em;color: black;border-radius: 0.25em;background-color: #f0f8ff;}#sk-container-id-3 input.sk-toggleable__control:checked~div.sk-toggleable__content {max-height: 200px;max-width: 100%;overflow: auto;}#sk-container-id-3 input.sk-toggleable__control:checked~label.sk-toggleable__label-arrow:before {content: \"▾\";}#sk-container-id-3 div.sk-estimator input.sk-toggleable__control:checked~label.sk-toggleable__label {background-color: #d4ebff;}#sk-container-id-3 div.sk-label input.sk-toggleable__control:checked~label.sk-toggleable__label {background-color: #d4ebff;}#sk-container-id-3 input.sk-hidden--visually {border: 0;clip: rect(1px 1px 1px 1px);clip: rect(1px, 1px, 1px, 1px);height: 1px;margin: -1px;overflow: hidden;padding: 0;position: absolute;width: 1px;}#sk-container-id-3 div.sk-estimator {font-family: monospace;background-color: #f0f8ff;border: 1px dotted black;border-radius: 0.25em;box-sizing: border-box;margin-bottom: 0.5em;}#sk-container-id-3 div.sk-estimator:hover {background-color: #d4ebff;}#sk-container-id-3 div.sk-parallel-item::after {content: \"\";width: 100%;border-bottom: 1px solid gray;flex-grow: 1;}#sk-container-id-3 div.sk-label:hover label.sk-toggleable__label {background-color: #d4ebff;}#sk-container-id-3 div.sk-serial::before {content: \"\";position: absolute;border-left: 1px solid gray;box-sizing: border-box;top: 0;bottom: 0;left: 50%;z-index: 0;}#sk-container-id-3 div.sk-serial {display: flex;flex-direction: column;align-items: center;background-color: white;padding-right: 0.2em;padding-left: 0.2em;position: relative;}#sk-container-id-3 div.sk-item {position: relative;z-index: 1;}#sk-container-id-3 div.sk-parallel {display: flex;align-items: stretch;justify-content: center;background-color: white;position: relative;}#sk-container-id-3 div.sk-item::before, #sk-container-id-3 div.sk-parallel-item::before {content: \"\";position: absolute;border-left: 1px solid gray;box-sizing: border-box;top: 0;bottom: 0;left: 50%;z-index: -1;}#sk-container-id-3 div.sk-parallel-item {display: flex;flex-direction: column;z-index: 1;position: relative;background-color: white;}#sk-container-id-3 div.sk-parallel-item:first-child::after {align-self: flex-end;width: 50%;}#sk-container-id-3 div.sk-parallel-item:last-child::after {align-self: flex-start;width: 50%;}#sk-container-id-3 div.sk-parallel-item:only-child::after {width: 0;}#sk-container-id-3 div.sk-dashed-wrapped {border: 1px dashed gray;margin: 0 0.4em 0.5em 0.4em;box-sizing: border-box;padding-bottom: 0.4em;background-color: white;}#sk-container-id-3 div.sk-label label {font-family: monospace;font-weight: bold;display: inline-block;line-height: 1.2em;}#sk-container-id-3 div.sk-label-container {text-align: center;}#sk-container-id-3 div.sk-container {/* jupyter's `normalize.less` sets `[hidden] { display: none; }` but bootstrap.min.css set `[hidden] { display: none !important; }` so we also need the `!important` here to be able to override the default hidden behavior on the sphinx rendered scikit-learn.org. See: https://github.com/scikit-learn/scikit-learn/issues/21755 */display: inline-block !important;position: relative;}#sk-container-id-3 div.sk-text-repr-fallback {display: none;}</style><div id=\"sk-container-id-3\" class=\"sk-top-container\"><div class=\"sk-text-repr-fallback\"><pre>StandardScaler()</pre><b>In a Jupyter environment, please rerun this cell to show the HTML representation or trust the notebook. <br />On GitHub, the HTML representation is unable to render, please try loading this page with nbviewer.org.</b></div><div class=\"sk-container\" hidden><div class=\"sk-item\"><div class=\"sk-estimator sk-toggleable\"><input class=\"sk-toggleable__control sk-hidden--visually\" id=\"sk-estimator-id-3\" type=\"checkbox\" checked><label for=\"sk-estimator-id-3\" class=\"sk-toggleable__label sk-toggleable__label-arrow\">StandardScaler</label><div class=\"sk-toggleable__content\"><pre>StandardScaler()</pre></div></div></div></div></div>"
      ],
      "text/plain": [
       "StandardScaler()"
      ]
     },
     "execution_count": 94,
     "metadata": {},
     "output_type": "execute_result"
    }
   ],
   "source": [
    "scaler.fit(X)"
   ]
  },
  {
   "cell_type": "code",
   "execution_count": 95,
   "id": "d2a0a15a",
   "metadata": {},
   "outputs": [],
   "source": [
    "standardized_data = scaler.transform(X)"
   ]
  },
  {
   "cell_type": "code",
   "execution_count": 96,
   "id": "b5691d4e",
   "metadata": {},
   "outputs": [
    {
     "data": {
      "text/plain": [
       "array([[-0.39914541,  2.38880956, -0.6917197 ,  1.42975293],\n",
       "       [-0.39914541,  2.38368652, -0.67691224,  1.45103511],\n",
       "       [-0.46760428,  2.32938091, -0.69355301,  1.45864621],\n",
       "       ...,\n",
       "       [ 2.05926403, -0.89307824, -0.61274655, -0.69876145],\n",
       "       [ 2.0728668 , -0.89461519, -0.63813078, -0.68838269],\n",
       "       [ 2.06448555, -0.89329341, -0.65305106, -0.77266741]])"
      ]
     },
     "execution_count": 96,
     "metadata": {},
     "output_type": "execute_result"
    }
   ],
   "source": [
    "standardized_data"
   ]
  },
  {
   "cell_type": "code",
   "execution_count": 97,
   "id": "ec5ee5b5",
   "metadata": {},
   "outputs": [],
   "source": [
    "X = standardized_data"
   ]
  },
  {
   "cell_type": "code",
   "execution_count": 98,
   "id": "0dc9faef",
   "metadata": {},
   "outputs": [
    {
     "data": {
      "text/plain": [
       "array([[-0.39914541,  2.38880956, -0.6917197 ,  1.42975293],\n",
       "       [-0.39914541,  2.38368652, -0.67691224,  1.45103511],\n",
       "       [-0.46760428,  2.32938091, -0.69355301,  1.45864621],\n",
       "       ...,\n",
       "       [ 2.05926403, -0.89307824, -0.61274655, -0.69876145],\n",
       "       [ 2.0728668 , -0.89461519, -0.63813078, -0.68838269],\n",
       "       [ 2.06448555, -0.89329341, -0.65305106, -0.77266741]])"
      ]
     },
     "execution_count": 98,
     "metadata": {},
     "output_type": "execute_result"
    }
   ],
   "source": [
    "X"
   ]
  },
  {
   "cell_type": "code",
   "execution_count": 99,
   "id": "a1924d6a",
   "metadata": {},
   "outputs": [],
   "source": [
    "from sklearn.model_selection import train_test_split, RandomizedSearchCV\n",
    "\n",
    "X_train, X_test, y_train, y_test = train_test_split(X, y, test_size=0.2, random_state=45)"
   ]
  },
  {
   "cell_type": "code",
   "execution_count": 100,
   "id": "a2eae257",
   "metadata": {},
   "outputs": [
    {
     "name": "stdout",
     "output_type": "stream",
     "text": [
      "(2290, 4) (1832, 4) (458, 4)\n"
     ]
    }
   ],
   "source": [
    "print(X.shape, X_train.shape, X_test.shape)"
   ]
  },
  {
   "cell_type": "code",
   "execution_count": 101,
   "id": "b17539c4",
   "metadata": {},
   "outputs": [
    {
     "name": "stdout",
     "output_type": "stream",
     "text": [
      "(2290,) (1832,) (458,)\n"
     ]
    }
   ],
   "source": [
    "print(y.shape, y_train.shape, y_test.shape)"
   ]
  },
  {
   "cell_type": "code",
   "execution_count": 102,
   "id": "56875957",
   "metadata": {},
   "outputs": [],
   "source": [
    "# Model Oluşturma İçin\n",
    "from sklearn.linear_model import LinearRegression, Lasso, Ridge\n",
    "from sklearn.svm import SVR\n",
    "from sklearn.tree import DecisionTreeRegressor\n",
    "from sklearn.ensemble import RandomForestRegressor\n",
    "from sklearn.metrics import mean_absolute_error, mean_squared_error, r2_score"
   ]
  },
  {
   "cell_type": "code",
   "execution_count": 103,
   "id": "c93dd061",
   "metadata": {},
   "outputs": [],
   "source": [
    "models = [LinearRegression, Lasso, Ridge, SVR, DecisionTreeRegressor, RandomForestRegressor]\n",
    "mae_scores = []\n",
    "mse_scores = []\n",
    "rmse_scores = []\n",
    "r2_scores = []\n",
    "\n",
    "for model in models:\n",
    "    regressor = model().fit(X_train, y_train)\n",
    "    y_pred = regressor.predict(X_test)\n",
    "    \n",
    "    mae_scores.append(mean_absolute_error(y_test, y_pred))\n",
    "    mse_scores.append(mean_squared_error(y_test, y_pred))\n",
    "    rmse_scores.append(mean_squared_error(y_test, y_pred, squared=False))\n",
    "    r2_scores.append(r2_score(y_test, y_pred))"
   ]
  },
  {
   "cell_type": "code",
   "execution_count": 104,
   "id": "0485d7bc",
   "metadata": {},
   "outputs": [
    {
     "data": {
      "text/html": [
       "<div>\n",
       "<style scoped>\n",
       "    .dataframe tbody tr th:only-of-type {\n",
       "        vertical-align: middle;\n",
       "    }\n",
       "\n",
       "    .dataframe tbody tr th {\n",
       "        vertical-align: top;\n",
       "    }\n",
       "\n",
       "    .dataframe thead th {\n",
       "        text-align: right;\n",
       "    }\n",
       "</style>\n",
       "<table border=\"1\" class=\"dataframe\">\n",
       "  <thead>\n",
       "    <tr style=\"text-align: right;\">\n",
       "      <th></th>\n",
       "      <th>Mean Absolute Error</th>\n",
       "      <th>Mean Squared Error</th>\n",
       "      <th>Root Mean Squared Error</th>\n",
       "      <th>R-squared (R2)</th>\n",
       "    </tr>\n",
       "    <tr>\n",
       "      <th>Model</th>\n",
       "      <th></th>\n",
       "      <th></th>\n",
       "      <th></th>\n",
       "      <th></th>\n",
       "    </tr>\n",
       "  </thead>\n",
       "  <tbody>\n",
       "    <tr>\n",
       "      <th>Linear Regression</th>\n",
       "      <td>6.119079</td>\n",
       "      <td>69.199813</td>\n",
       "      <td>8.318642</td>\n",
       "      <td>0.871706</td>\n",
       "    </tr>\n",
       "    <tr>\n",
       "      <th>Lasso</th>\n",
       "      <td>6.397819</td>\n",
       "      <td>72.040885</td>\n",
       "      <td>8.487690</td>\n",
       "      <td>0.866439</td>\n",
       "    </tr>\n",
       "    <tr>\n",
       "      <th>Ridge</th>\n",
       "      <td>6.121224</td>\n",
       "      <td>69.186689</td>\n",
       "      <td>8.317854</td>\n",
       "      <td>0.871731</td>\n",
       "    </tr>\n",
       "    <tr>\n",
       "      <th>SVR</th>\n",
       "      <td>3.339882</td>\n",
       "      <td>30.362571</td>\n",
       "      <td>5.510224</td>\n",
       "      <td>0.943709</td>\n",
       "    </tr>\n",
       "    <tr>\n",
       "      <th>Decision Tree Regressor</th>\n",
       "      <td>1.742524</td>\n",
       "      <td>14.014292</td>\n",
       "      <td>3.743567</td>\n",
       "      <td>0.974018</td>\n",
       "    </tr>\n",
       "    <tr>\n",
       "      <th>Random Forest Regressor</th>\n",
       "      <td>1.320110</td>\n",
       "      <td>5.832795</td>\n",
       "      <td>2.415118</td>\n",
       "      <td>0.989186</td>\n",
       "    </tr>\n",
       "  </tbody>\n",
       "</table>\n",
       "</div>"
      ],
      "text/plain": [
       "                         Mean Absolute Error  Mean Squared Error  \\\n",
       "Model                                                              \n",
       "Linear Regression                   6.119079           69.199813   \n",
       "Lasso                               6.397819           72.040885   \n",
       "Ridge                               6.121224           69.186689   \n",
       "SVR                                 3.339882           30.362571   \n",
       "Decision Tree Regressor             1.742524           14.014292   \n",
       "Random Forest Regressor             1.320110            5.832795   \n",
       "\n",
       "                         Root Mean Squared Error  R-squared (R2)  \n",
       "Model                                                             \n",
       "Linear Regression                       8.318642        0.871706  \n",
       "Lasso                                   8.487690        0.866439  \n",
       "Ridge                                   8.317854        0.871731  \n",
       "SVR                                     5.510224        0.943709  \n",
       "Decision Tree Regressor                 3.743567        0.974018  \n",
       "Random Forest Regressor                 2.415118        0.989186  "
      ]
     },
     "execution_count": 104,
     "metadata": {},
     "output_type": "execute_result"
    }
   ],
   "source": [
    "regression_metrics_df = pd.DataFrame({\n",
    "    \"Model\": [\"Linear Regression\", \"Lasso\", \"Ridge\", \"SVR\", \"Decision Tree Regressor\", \"Random Forest Regressor\"],\n",
    "    \"Mean Absolute Error\": mae_scores,\n",
    "    \"Mean Squared Error\": mse_scores,\n",
    "    \"Root Mean Squared Error\": rmse_scores,\n",
    "    \"R-squared (R2)\": r2_scores\n",
    "})\n",
    "\n",
    "regression_metrics_df.set_index('Model', inplace=True)\n",
    "regression_metrics_df"
   ]
  },
  {
   "cell_type": "code",
   "execution_count": 105,
   "id": "a7a15e1b",
   "metadata": {},
   "outputs": [
    {
     "data": {
      "image/png": "[encoded data removed]",
      "text/plain": [
       "<Figure size 1500x1000 with 4 Axes>"
      ]
     },
     "metadata": {},
     "output_type": "display_data"
    }
   ],
   "source": [
    "# Veriyi görselleştirmek için tabloyu baştan oluşturmak\n",
    "regression_metrics_df = pd.DataFrame({\n",
    "    \"Model\": [\"Linear Regression\", \"Lasso\", \"Ridge\", \"SVR\", \"Decision Tree Regressor\", \"Random Forest Regressor\"],\n",
    "    \"Mean Absolute Error\": mae_scores,\n",
    "    \"Mean Squared Error\": mse_scores,\n",
    "    \"Root Mean Squared Error\": rmse_scores,\n",
    "    \"R-squared (R2)\": r2_scores\n",
    "})\n",
    "\n",
    "# Set index back to default for easier plotting\n",
    "regression_metrics_df.set_index('Model', inplace=True)\n",
    "\n",
    "# Plotting\n",
    "plt.figure(figsize=(15, 10))\n",
    "\n",
    "# MAE\n",
    "plt.subplot(2, 2, 1)\n",
    "sns.barplot(x=regression_metrics_df.index, y='Mean Absolute Error', data=regression_metrics_df)\n",
    "plt.title('Mean Absolute Error by Model')\n",
    "plt.xticks(rotation=45)\n",
    "\n",
    "# MSE\n",
    "plt.subplot(2, 2, 2)\n",
    "sns.barplot(x=regression_metrics_df.index, y='Mean Squared Error', data=regression_metrics_df)\n",
    "plt.title('Mean Squared Error by Model')\n",
    "plt.xticks(rotation=45)\n",
    "\n",
    "# RMSE\n",
    "plt.subplot(2, 2, 3)\n",
    "sns.barplot(x=regression_metrics_df.index, y='Root Mean Squared Error', data=regression_metrics_df)\n",
    "plt.title('Root Mean Squared Error by Model')\n",
    "plt.xticks(rotation=45)\n",
    "\n",
    "# R2\n",
    "plt.subplot(2, 2, 4)\n",
    "sns.barplot(x=regression_metrics_df.index, y='R-squared (R2)', data=regression_metrics_df)\n",
    "plt.title('R-squared (R2) by Model')\n",
    "plt.xticks(rotation=45)\n",
    "\n",
    "plt.tight_layout()\n",
    "plt.show()"
   ]
  }
 ],
 "metadata": {
  "kernelspec": {
   "display_name": "Python 3 (ipykernel)",
   "language": "python",
   "name": "python3"
  },
  "language_info": {
   "codemirror_mode": {
    "name": "ipython",
    "version": 3
   },
   "file_extension": ".py",
   "mimetype": "text/x-python",
   "name": "python",
   "nbconvert_exporter": "python",
   "pygments_lexer": "ipython3",
   "version": "3.11.5"
  }
 },
 "nbformat": 4,
 "nbformat_minor": 5
}
